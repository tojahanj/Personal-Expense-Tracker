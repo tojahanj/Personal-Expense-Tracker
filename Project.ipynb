{
  "nbformat": 4,
  "nbformat_minor": 0,
  "metadata": {
    "colab": {
      "provenance": [],
      "authorship_tag": "ABX9TyMBldrWyBPMgYY0TwmGsWT2",
      "include_colab_link": true
    },
    "kernelspec": {
      "name": "python3",
      "display_name": "Python 3"
    },
    "language_info": {
      "name": "python"
    }
  },
  "cells": [
    {
      "cell_type": "markdown",
      "metadata": {
        "id": "view-in-github",
        "colab_type": "text"
      },
      "source": [
        "<a href=\"https://colab.research.google.com/github/tojahanj/Personal-Expense-Tracker/blob/main/Project.ipynb\" target=\"_parent\"><img src=\"https://colab.research.google.com/assets/colab-badge.svg\" alt=\"Open In Colab\"/></a>"
      ]
    },
    {
      "cell_type": "code",
      "execution_count": null,
      "metadata": {
        "colab": {
          "base_uri": "https://localhost:8080/"
        },
        "id": "07GJvWq1rlSV",
        "outputId": "8277edb1-859e-4953-a231-7063932da12a"
      },
      "outputs": [
        {
          "output_type": "stream",
          "name": "stdout",
          "text": [
            "CSV file 'expenses.csv' created.\n",
            "\n",
            "Loaded Data:\n",
            "         date       category     description  amount\n",
            "0  2024-01-10         Health        Pharmacy   25.50\n",
            "1  2024-01-15      Transport        Gasoline   40.00\n",
            "2  2024-02-07           Food          Dinner   30.75\n",
            "3  2024-02-20      Education           Books   45.00\n",
            "4  2024-03-10      Utilities      Water bill   35.00\n",
            "5  2024-03-12  Entertainment  Concert ticket   50.00\n",
            "6  2024-03-15           Food       Groceries   60.00\n",
            "7  2024-04-01       Clothing           Shoes   75.00\n",
            "8  2024-04-10         Health    Doctor visit   80.00\n",
            "9  2024-04-15      Transport            Taxi   20.00\n",
            "\n",
            "Total Amount Spent: 461.25\n",
            "\n",
            "Total Amount by Category:\n",
            "category\n",
            "Clothing          75.00\n",
            "Education         45.00\n",
            "Entertainment     50.00\n",
            "Food              90.75\n",
            "Health           105.50\n",
            "Transport         60.00\n",
            "Utilities         35.00\n",
            "Name: amount, dtype: float64\n"
          ]
        }
      ],
      "source": [
        "import pandas as pd\n",
        "data = [\n",
        "    {'date': '2024-01-10', 'category': 'Health', 'description': 'Pharmacy', 'amount': 25.5},\n",
        "    {'date': '2024-01-15', 'category': 'Transport', 'description': 'Gasoline', 'amount': 40.0},\n",
        "    {'date': '2024-02-07', 'category': 'Food', 'description': 'Dinner', 'amount': 30.75},\n",
        "    {'date': '2024-02-20', 'category': 'Education', 'description': 'Books', 'amount': 45.0},\n",
        "    {'date': '2024-03-10', 'category': 'Utilities', 'description': 'Water bill', 'amount': 35.0},\n",
        "    {'date': '2024-03-12', 'category': 'Entertainment', 'description': 'Concert ticket', 'amount': 50.0},\n",
        "    {'date': '2024-03-15', 'category': 'Food', 'description': 'Groceries', 'amount': 60.0},\n",
        "    {'date': '2024-04-01', 'category': 'Clothing', 'description': 'Shoes', 'amount': 75.0},\n",
        "    {'date': '2024-04-10', 'category': 'Health', 'description': 'Doctor visit', 'amount': 80.0},\n",
        "    {'date': '2024-04-15', 'category': 'Transport', 'description': 'Taxi', 'amount': 20.0}\n",
        "]\n",
        "\n",
        "df = pd.DataFrame(data)\n",
        "\n",
        "df.to_csv('expenses.csv', index=False)\n",
        "print(\"CSV file 'expenses.csv' created.\")\n",
        "expenses = pd.read_csv('expenses.csv')\n",
        "print(\"\\nLoaded Data:\")\n",
        "print(expenses)\n",
        "total_amount = expenses['amount'].sum()\n",
        "print(\"\\nTotal Amount Spent:\", total_amount)\n",
        "category_totals = expenses.groupby('category')['amount'].sum()\n",
        "print(\"\\nTotal Amount by Category:\")\n",
        "print(category_totals)"
      ]
    },
    {
      "cell_type": "code",
      "source": [
        "#Read the stored expenses from the CSV file.\n",
        "import pandas as pd\n",
        "\n",
        "def load_expenses_from_csv(filename='expenses.csv'):\n",
        "    \"\"\"Reads expenses from a CSV file and returns a Pandas DataFrame.\"\"\"\n",
        "    try:\n",
        "        df = pd.read_csv(filename)\n",
        "        print(f\"Expenses loaded from '{filename}' successfully.\")\n",
        "        return df\n",
        "    except FileNotFoundError:\n",
        "        print(f\"Error: File '{filename}' not found.\")\n",
        "        return pd.DataFrame()\n",
        "expenses_df = load_expenses_from_csv()\n",
        "print(expenses_df)"
      ],
      "metadata": {
        "colab": {
          "base_uri": "https://localhost:8080/"
        },
        "id": "Iah_ilFT6wdB",
        "outputId": "922c2b29-1e82-4435-d10d-bcd982d1cd87"
      },
      "execution_count": null,
      "outputs": [
        {
          "output_type": "stream",
          "name": "stdout",
          "text": [
            "Expenses loaded from 'expenses.csv' successfully.\n",
            "         date       category     description  amount\n",
            "0  2024-01-10         Health        Pharmacy   25.50\n",
            "1  2024-01-15      Transport        Gasoline   40.00\n",
            "2  2024-02-07           Food          Dinner   30.75\n",
            "3  2024-02-20      Education           Books   45.00\n",
            "4  2024-03-10      Utilities      Water bill   35.00\n",
            "5  2024-03-12  Entertainment  Concert ticket   50.00\n",
            "6  2024-03-15           Food       Groceries   60.00\n",
            "7  2024-04-01       Clothing           Shoes   75.00\n",
            "8  2024-04-10         Health    Doctor visit   80.00\n",
            "9  2024-04-15      Transport            Taxi   20.00\n"
          ]
        }
      ]
    },
    {
      "cell_type": "code",
      "source": [
        "#Group expenses by category\n",
        "import pandas as pd\n",
        "\n",
        "def group_expenses_by_category(df):\n",
        "    \"\"\"Groups expenses by category and calculate\"\"\"\n",
        "    category_expenses = df.groupby('category')['amount'].sum()\n",
        "    print(\"\\n--- Expenses by Category ---\")\n",
        "    print(category_expenses)\n",
        "group_expenses_by_category(df)"
      ],
      "metadata": {
        "colab": {
          "base_uri": "https://localhost:8080/"
        },
        "id": "nbbDT57I6-Vm",
        "outputId": "527466c6-276c-43cd-ba38-57a0df8002ef"
      },
      "execution_count": null,
      "outputs": [
        {
          "output_type": "stream",
          "name": "stdout",
          "text": [
            "\n",
            "--- Expenses by Category ---\n",
            "category\n",
            "Entertainment     12.00\n",
            "Food              65.75\n",
            "Transport          2.50\n",
            "Utilities        120.00\n",
            "Name: amount, dtype: float64\n"
          ]
        }
      ]
    },
    {
      "cell_type": "code",
      "source": [
        "#Analyze monthly total expenses and average daily expenses.\n",
        "import pandas as pd\n",
        "\n",
        "def analyze_monthly_expenses(df):\n",
        "    \"\"\"Analyzes monthly total and average daily expenses.\"\"\"\n",
        "    df['date'] = pd.to_datetime(df['date'])\n",
        "    monthly_expenses = df.groupby(df['date'].dt.to_period('M'))['amount'].sum()\n",
        "    daily_expenses = df.groupby('date')['amount'].sum()\n",
        "    average_daily_expense = daily_expenses.mean()\n",
        "    print(\"\\n--- Monthly Expenses Analysis ---\")\n",
        "    print(\"Monthly Total Expenses:\")\n",
        "    print(monthly_expenses)\n",
        "    print(f\"\\nAverage Daily Expense: {average_daily_expense:.2f}\")\n",
        "analyze_monthly_expenses(df)"
      ],
      "metadata": {
        "colab": {
          "base_uri": "https://localhost:8080/"
        },
        "id": "ixIg5D-q7S01",
        "outputId": "bff7d7bb-861f-4838-e4b2-fc16103afc79"
      },
      "execution_count": null,
      "outputs": [
        {
          "output_type": "stream",
          "name": "stdout",
          "text": [
            "\n",
            "--- Monthly Expenses Analysis ---\n",
            "Monthly Total Expenses:\n",
            "date\n",
            "2024-01     65.50\n",
            "2024-02     75.75\n",
            "2024-03    145.00\n",
            "2024-04    175.00\n",
            "Freq: M, Name: amount, dtype: float64\n",
            "\n",
            "Average Daily Expense: 46.12\n"
          ]
        }
      ]
    },
    {
      "cell_type": "code",
      "source": [
        "#Add\n",
        "expenses = pd.DataFrame(data)\n",
        "new_expense = {'date': '2024-02-06', 'category': 'Health', 'description': 'Medicine', 'amount': 35.0}\n",
        "new_expense_df = pd.DataFrame([new_expense])\n",
        "expenses = pd.concat([expenses, new_expense_df])\n",
        "print(expenses)"
      ],
      "metadata": {
        "colab": {
          "base_uri": "https://localhost:8080/"
        },
        "id": "7XLng2U-UCLg",
        "outputId": "dea178ce-1dc0-4db4-f3bb-79ebf14b7c96"
      },
      "execution_count": null,
      "outputs": [
        {
          "output_type": "stream",
          "name": "stdout",
          "text": [
            "         date       category     description  amount\n",
            "0  2024-01-10         Health        Pharmacy   25.50\n",
            "1  2024-01-15      Transport        Gasoline   40.00\n",
            "2  2024-02-07           Food          Dinner   30.75\n",
            "3  2024-02-20      Education           Books   45.00\n",
            "4  2024-03-10      Utilities      Water bill   35.00\n",
            "5  2024-03-12  Entertainment  Concert ticket   50.00\n",
            "6  2024-03-15           Food       Groceries   60.00\n",
            "7  2024-04-01       Clothing           Shoes   75.00\n",
            "8  2024-04-10         Health    Doctor visit   80.00\n",
            "9  2024-04-15      Transport            Taxi   20.00\n",
            "0  2024-02-06         Health        Medicine   35.00\n"
          ]
        }
      ]
    },
    {
      "cell_type": "code",
      "source": [
        "#delete\n",
        "def delete_expense(data, date, category):\n",
        "    updated_data = [record for record in data if not (record['date'] == date and record['category'] == category)]\n",
        "    return updated_data\n",
        "\n",
        "updated_data = delete_expense(data, '2024-01-04', 'Food')\n",
        "print(updated_data)"
      ],
      "metadata": {
        "colab": {
          "base_uri": "https://localhost:8080/"
        },
        "id": "_ngFHYQlTggt",
        "outputId": "c5de6418-0f80-4022-a3ac-78e0e604f09c"
      },
      "execution_count": null,
      "outputs": [
        {
          "output_type": "stream",
          "name": "stdout",
          "text": [
            "[{'date': '2024-01-01', 'category': 'Food', 'description': 'Groceries', 'amount': 50.75}, {'date': '2024-01-02', 'category': 'Transport', 'description': 'Bus ticket', 'amount': 2.5}, {'date': '2024-02-03', 'category': 'Utilities', 'description': 'Electricity bill', 'amount': 120.0}, {'date': '2024-03-04', 'category': 'Food', 'description': 'Lunch', 'amount': 15.0}, {'date': '2024-03-05', 'category': 'Entertainment', 'description': 'Movie', 'amount': 12.0}]\n"
          ]
        }
      ]
    },
    {
      "cell_type": "code",
      "source": [
        "#Generating a summary report of total and category-wise expenses.\n",
        "import pandas as pd\n",
        "\n",
        "def generate_summary_report(df):\n",
        "    \"\"\"Generates a summary report of total and category-wise expenses.\"\"\"\n",
        "    total_expenses = df['amount'].sum()\n",
        "    category_expenses = df.groupby('category')['amount'].sum()\n",
        "    print(\"\\n--- Expense Summary Report ---\")\n",
        "    print(f\"Total Expenses: {total_expenses:.2f}\")\n",
        "    print(\"\\nExpenses by Category:\")\n",
        "    print(category_expenses)\n",
        "generate_summary_report(df)"
      ],
      "metadata": {
        "colab": {
          "base_uri": "https://localhost:8080/"
        },
        "id": "EnHY91EN7w3G",
        "outputId": "0c2fe9eb-1f4d-4453-f1ea-057174f7e967"
      },
      "execution_count": null,
      "outputs": [
        {
          "output_type": "stream",
          "name": "stdout",
          "text": [
            "\n",
            "--- Expense Summary Report ---\n",
            "Total Expenses: 461.25\n",
            "\n",
            "Expenses by Category:\n",
            "category\n",
            "Clothing          75.00\n",
            "Education         45.00\n",
            "Entertainment     50.00\n",
            "Food              90.75\n",
            "Health           105.50\n",
            "Transport         60.00\n",
            "Utilities         35.00\n",
            "Name: amount, dtype: float64\n"
          ]
        }
      ]
    },
    {
      "cell_type": "code",
      "source": [
        "import matplotlib.pyplot as plt\n",
        "import pandas as pd\n",
        "data = [\n",
        "    {'date': '2024-01-10', 'category': 'Health', 'description': 'Pharmacy', 'amount': 25.5},\n",
        "    {'date': '2024-01-15', 'category': 'Transport', 'description': 'Gasoline', 'amount': 40.0},\n",
        "    {'date': '2024-02-07', 'category': 'Food', 'description': 'Dinner', 'amount': 30.75},\n",
        "    {'date': '2024-02-20', 'category': 'Education', 'description': 'Books', 'amount': 45.0},\n",
        "    {'date': '2024-03-10', 'category': 'Utilities', 'description': 'Water bill', 'amount': 35.0},\n",
        "    {'date': '2024-03-12', 'category': 'Entertainment', 'description': 'Concert ticket', 'amount': 50.0},\n",
        "    {'date': '2024-03-15', 'category': 'Food', 'description': 'Groceries', 'amount': 60.0},\n",
        "    {'date': '2024-04-01', 'category': 'Clothing', 'description': 'Shoes', 'amount': 75.0},\n",
        "    {'date': '2024-04-10', 'category': 'Health', 'description': 'Doctor visit', 'amount': 80.0},\n",
        "    {'date': '2024-04-15', 'category': 'Transport', 'description': 'Taxi', 'amount': 20.0}\n",
        "]\n",
        "df = pd.DataFrame(data)\n",
        "df['date'] = pd.to_datetime(df['date'])\n",
        "monthly_expenses = df.groupby(df['date'].dt.month)['amount'].sum()\n",
        "\n",
        "category_expenses = df.groupby('category')['amount'].sum()\n",
        "plt.figure(figsize=(5,5))\n",
        "category_expenses.plot(kind='pie', autopct='%1.1f%%', startangle=90, colors=plt.cm.Paired.colors)\n",
        "plt.title('Percentage of Expenses by Category')\n",
        "plt.ylabel('')\n",
        "plt.show()"
      ],
      "metadata": {
        "colab": {
          "base_uri": "https://localhost:8080/",
          "height": 444
        },
        "id": "roYJg-LIDWuc",
        "outputId": "eda78528-2e6d-4838-c697-2695bd07461d"
      },
      "execution_count": null,
      "outputs": [
        {
          "output_type": "display_data",
          "data": {
            "text/plain": [
              "<Figure size 500x500 with 1 Axes>"
            ],
            "image/png": "[encoded data removed]"
          },
          "metadata": {}
        }
      ]
    },
    {
      "cell_type": "code",
      "source": [],
      "metadata": {
        "id": "oA72npCAVO9P"
      },
      "execution_count": null,
      "outputs": []
    },
    {
      "cell_type": "code",
      "source": [
        "#bar chart\n",
        "import matplotlib.pyplot as plt\n",
        "import pandas as pd\n",
        "data = [\n",
        "    {'date': '2024-01-10', 'category': 'Health', 'description': 'Pharmacy', 'amount': 25.5},\n",
        "    {'date': '2024-01-15', 'category': 'Transport', 'description': 'Gasoline', 'amount': 40.0},\n",
        "    {'date': '2024-02-07', 'category': 'Food', 'description': 'Dinner', 'amount': 30.75},\n",
        "    {'date': '2024-02-20', 'category': 'Education', 'description': 'Books', 'amount': 45.0},\n",
        "    {'date': '2024-03-10', 'category': 'Utilities', 'description': 'Water bill', 'amount': 35.0},\n",
        "    {'date': '2024-03-12', 'category': 'Entertainment', 'description': 'Concert ticket', 'amount': 50.0},\n",
        "    {'date': '2024-03-15', 'category': 'Food', 'description': 'Groceries', 'amount': 60.0},\n",
        "    {'date': '2024-04-01', 'category': 'Clothing', 'description': 'Shoes', 'amount': 75.0},\n",
        "    {'date': '2024-04-10', 'category': 'Health', 'description': 'Doctor visit', 'amount': 80.0},\n",
        "    {'date': '2024-04-15', 'category': 'Transport', 'description': 'Taxi', 'amount': 20.0}\n",
        "]\n",
        "\n",
        "df = pd.DataFrame(data)\n",
        "df['date'] = pd.to_datetime(df['date'])\n",
        "monthly_expenses = df.groupby(df['date'].dt.month)['amount'].sum()\n",
        "plt.figure(figsize=(8, 4))\n",
        "monthly_expenses.plot(kind='bar', color='skyblue', edgecolor='black')\n",
        "plt.title('Monthly Total Expenses')\n",
        "plt.xlabel('Month')\n",
        "plt.ylabel('Total Expense')\n",
        "plt.xticks(rotation=45)\n",
        "plt.grid(axis='y', linestyle='--', alpha=0.7)\n",
        "plt.show()"
      ],
      "metadata": {
        "colab": {
          "base_uri": "https://localhost:8080/",
          "height": 412
        },
        "id": "XPGtt6Xr0MbZ",
        "outputId": "aa91f848-4957-491c-aa67-310560d1ea16"
      },
      "execution_count": 44,
      "outputs": [
        {
          "output_type": "display_data",
          "data": {
            "text/plain": [
              "<Figure size 800x400 with 1 Axes>"
            ],
            "image/png": "[encoded data removed]"
          },
          "metadata": {}
        }
      ]
    },
    {
      "cell_type": "code",
      "source": [
        "# Calculate total, highest, lowest, and average ex\n",
        "selected_month = '2024-01'\n",
        "# Change 'Date' to 'date' and 'Amount' to 'amount'\n",
        "daily_expenses_selected_month = df[df['date'].dt.to_period('M') == selected_month].groupby('date')['amount'].sum()\n",
        "plt.figure(figsize=(7,4))\n",
        "daily_expenses_selected_month.plot(kind='line', marker='o', color='green')\n",
        "plt.title(f'Daily Expenses for {selected_month}')\n",
        "plt.xlabel('Date')\n",
        "plt.ylabel('Daily Expense')\n",
        "plt.grid(axis='both', linestyle='--', alpha=0.7)\n",
        "plt.show()"
      ],
      "metadata": {
        "colab": {
          "base_uri": "https://localhost:8080/",
          "height": 412
        },
        "id": "vqt8NaIkBS5V",
        "outputId": "95f76f2f-e435-4bb2-9d1b-2584c91daf6d"
      },
      "execution_count": 43,
      "outputs": [
        {
          "output_type": "display_data",
          "data": {
            "text/plain": [
              "<Figure size 700x400 with 1 Axes>"
            ],
            "image/png": "[encoded data removed]"
          },
          "metadata": {}
        }
      ]
    },
    {
      "cell_type": "code",
      "source": [
        "print(f\"Data for {selected_month}:\")\n",
        "print(daily_expenses_selected_month)"
      ],
      "metadata": {
        "colab": {
          "base_uri": "https://localhost:8080/"
        },
        "id": "b3KpXJlgyxnk",
        "outputId": "c5346379-2117-45f6-8dbf-2819ecde7079"
      },
      "execution_count": null,
      "outputs": [
        {
          "output_type": "stream",
          "name": "stdout",
          "text": [
            "Data for 2024-12:\n",
            "Series([], Name: Amount, dtype: float64)\n"
          ]
        }
      ]
    },
    {
      "cell_type": "code",
      "source": [
        "\n",
        "import pandas as pd\n",
        "\n",
        "df = pd.read_csv(\"expenses.csv\")\n",
        "\n",
        "# Convert 'date' to datetime and 'amount' to numeric for consistency\n",
        "df['date'] = pd.to_datetime(df['date'], errors='coerce') # Changed 'Date' to 'date'\n",
        "df['amount'] = pd.to_numeric(df['amount'], errors='coerce') # Changed 'Amount' to 'amount'\n",
        "\n",
        "# Function 1: Add a new expense with user input\n",
        "def add_expense():\n",
        "    date = input(\"Enter the date (YYYY-MM-DD): \")\n",
        "    category = input(\"Enter the category (e.g., Food, Rent, Entertainment): \")\n",
        "    amount = input(\"Enter the amount: \")\n",
        "    description = input(\"Enter the description: \")\n",
        "\n",
        "    try:\n",
        "        # Convert date and amount to appropriate data types\n",
        "        date = pd.to_datetime(date, errors='coerce')\n",
        "        amount = float(amount)\n",
        "\n",
        "        # Ensure valid date and amount input\n",
        "        if pd.isna(date):\n",
        "            print(\"Invalid date format! Please enter the date in YYYY-MM-DD format.\")\n",
        "            return\n",
        "        if amount <= 0:\n",
        "            print(\"Invalid amount! Please enter a positive number for the amount.\")\n",
        "            return\n",
        "\n",
        "        # Create a new entry and append it to the DataFrame\n",
        "        new_expense = pd.DataFrame({\n",
        "            'date': [date], # Changed 'Date' to 'date'\n",
        "            'category': [category],\n",
        "            'amount': [amount], # Changed 'Amount' to 'amount'\n",
        "            'description': [description]\n",
        "        })\n",
        "        global df\n",
        "        df = pd.concat([df, new_expense], ignore_index=True)  # Append new entry\n",
        "        df.to_csv(\"your_file.csv\", index=False)  # Save the updated file\n",
        "        print(\"Expense added successfully!\")\n",
        "\n",
        "    except ValueError:\n",
        "        print(\"Invalid input for amount. Please enter a numeric value.\")\n",
        "\n",
        "# Example usage of the function to add an expense:\n",
        "add_expense()"
      ],
      "metadata": {
        "colab": {
          "base_uri": "https://localhost:8080/"
        },
        "id": "ddTIqjaObZWD",
        "outputId": "635acc8d-1c38-4150-eb7f-06454e704cad"
      },
      "execution_count": 42,
      "outputs": [
        {
          "output_type": "stream",
          "name": "stdout",
          "text": [
            "Enter the date (YYYY-MM-DD): 2024-01-15\n",
            "Enter the category (e.g., Food, Rent, Entertainment): Transport\n",
            "Enter the amount: 40.0\n",
            "Enter the description: Gasoline\n",
            "Expense added successfully!\n"
          ]
        }
      ]
    },
    {
      "cell_type": "code",
      "source": [
        "#Bonus\n",
        "import re\n",
        "\n",
        "def validate_date(date_str):\n",
        "  \"\"\"Validates a date string in YYYY-MM-DD format using RegEx.\"\"\"\n",
        "  pattern = r\"^\\d{4}-\\d{2}-\\d{2}$\"\n",
        "  if re.match(pattern, date_str):\n",
        "    return True\n",
        "  else:\n",
        "    return False\n",
        "date_to_check = \"2024-01-01\"\n",
        "if validate_date(date_to_check):\n",
        "  print(f\"{date_to_check} is a valid date.\")\n",
        "else:\n",
        "  print(f\"{date_to_check} is not a valid date.\")"
      ],
      "metadata": {
        "colab": {
          "base_uri": "https://localhost:8080/"
        },
        "id": "qPzSzcvbzxDa",
        "outputId": "64a19242-96a1-416e-fd65-c8209546941c"
      },
      "execution_count": null,
      "outputs": [
        {
          "output_type": "stream",
          "name": "stdout",
          "text": [
            "2024-01-01 is a valid date.\n"
          ]
        }
      ]
    },
    {
      "cell_type": "code",
      "source": [
        "#Keyword based search\n",
        "import pandas as pd\n",
        "\n",
        "def search_expenses(expenses_df, keyword):\n",
        "  \"\"\"Searches for expenses based on a keyword in the description.\"\"\"\n",
        "  expenses_df['description'] = expenses_df['description'].str.lower()\n",
        "  search_results = expenses_df[expenses_df['description'].str.contains(keyword.lower())]\n",
        "  return search_results\n",
        "keyword = input(\"Enter keyword to search for: \")\n",
        "search_results = search_expenses(expenses, keyword)\n",
        "\n",
        "if not search_results.empty:\n",
        "  print(\"Search Results:\")\n",
        "  print(search_results)\n",
        "else:\n",
        "  print(\"No expenses found matching the keyword.\")"
      ],
      "metadata": {
        "colab": {
          "base_uri": "https://localhost:8080/"
        },
        "id": "KzZvzK4-0oRs",
        "outputId": "60a17011-fab7-4f2f-862d-d99b293a17a1"
      },
      "execution_count": null,
      "outputs": [
        {
          "output_type": "stream",
          "name": "stdout",
          "text": [
            "Enter keyword to search for: movie\n",
            "No expenses found matching the keyword.\n"
          ]
        }
      ]
    },
    {
      "cell_type": "code",
      "source": [
        "#view summary\n",
        "def view_summaries():\n",
        "    print(\"\\n--- View Expense Summaries ---\")\n",
        "    print(\"1. Daily Summary\")\n",
        "    print(\"2. Monthly Summary\")\n",
        "    print(\"3. Category-wise Summary\")\n",
        "\n",
        "    while True:\n",
        "        try:\n",
        "            choice = int(input(\"Enter your choice: \"))\n",
        "            if choice in [1, 2, 3]:\n",
        "                break\n",
        "            else:\n",
        "                print(\"Invalid choice. Please enter 1, 2, or 3.\")\n",
        "        except ValueError:\n",
        "            print(\"Invalid input. Please enter a number.\")\n",
        "\n",
        "    if df.empty:\n",
        "        print(\"No data available.\")\n",
        "        return\n",
        "\n",
        "    if choice == 1:\n",
        "        print(\"\\nDaily Summary:\")\n",
        "        print(df.groupby(\"date\")[\"amount\"].sum())\n",
        "    elif choice == 2:\n",
        "        print(\"\\nMonthly Summary:\")\n",
        "        df['Month'] = pd.to_datetime(df['date']).dt.month\n",
        "        print(df.groupby(\"Month\")[\"amount\"].sum())\n",
        "    elif choice == 3:\n",
        "        print(\"\\nCategory-wise Summary:\")\n",
        "        print(df.groupby(\"category\")[\"amount\"].sum())\n",
        "    else:\n",
        "        print(\"Invalid choice, please try again.\")\n",
        "\n",
        "view_summaries()"
      ],
      "metadata": {
        "colab": {
          "base_uri": "https://localhost:8080/"
        },
        "id": "6PzEJsPQCQJq",
        "outputId": "9bbff067-71de-4ad4-f903-c813e0843b63"
      },
      "execution_count": 40,
      "outputs": [
        {
          "output_type": "stream",
          "name": "stdout",
          "text": [
            "\n",
            "--- View Expense Summaries ---\n",
            "1. Daily Summary\n",
            "2. Monthly Summary\n",
            "3. Category-wise Summary\n",
            "Enter your choice: 1\n",
            "\n",
            "Daily Summary:\n",
            "date\n",
            "2024-01-10    51.00\n",
            "2024-01-15    40.00\n",
            "2024-02-07    30.75\n",
            "2024-02-20    45.00\n",
            "2024-03-10    35.00\n",
            "2024-03-12    50.00\n",
            "2024-03-15    60.00\n",
            "2024-04-01    75.00\n",
            "2024-04-10    80.00\n",
            "2024-04-15    20.00\n",
            "Name: amount, dtype: float64\n"
          ]
        }
      ]
    },
    {
      "cell_type": "code",
      "source": [
        "import pandas as pd\n",
        "\n",
        "# Assuming 'expenses' is your DataFrame (loaded from 'expenses.csv')\n",
        "\n",
        "def update_expense(expenses_df, date, category, new_description, new_amount):\n",
        "    \"\"\"Updates an existing expense entry in the DataFrame.\"\"\"\n",
        "    mask = (expenses_df['date'] == date) & (expenses_df['category'] == category)\n",
        "    if mask.any():\n",
        "        expenses_df.loc[mask, 'description'] = new_description\n",
        "        expenses_df.loc[mask, 'amount'] = new_amount\n",
        "        print(\"Record updated successfully!\")\n",
        "    else:\n",
        "        print(\"No matching record found.\")\n",
        "\n",
        "def delete_expense(expenses_df, date, category):\n",
        "    \"\"\"Deletes an expense entry from the DataFrame.\"\"\"\n",
        "    mask = (expenses_df['date'] == date) & (expenses_df['category'] == category)\n",
        "    if mask.any():\n",
        "        expenses_df.drop(expenses_df[mask].index, inplace=True)\n",
        "        print(\"Record deleted successfully!\")\n",
        "    else:\n",
        "        print(\"No matching record found.\")\n",
        "update_expense(expenses, '2024-01-03', 'Utilities', 'Gas bill', 85.0)\n",
        "delete_expense(expenses, '2024-01-04', 'Food')\n",
        "print(expenses)"
      ],
      "metadata": {
        "colab": {
          "base_uri": "https://localhost:8080/"
        },
        "id": "4-jkHp7Z3IsF",
        "outputId": "006b1464-4d04-4c15-a485-ae312376f2d4"
      },
      "execution_count": null,
      "outputs": [
        {
          "output_type": "stream",
          "name": "stdout",
          "text": [
            "No matching record found.\n",
            "No matching record found.\n",
            "   Unnamed: 0        date       category     description  amount\n",
            "0           0  2024-01-10         Health        pharmacy   25.50\n",
            "1           1  2024-01-15      Transport        gasoline   40.00\n",
            "2           2  2024-02-07           Food          dinner   30.75\n",
            "3           3  2024-02-20      Education           books   45.00\n",
            "4           4  2024-03-10      Utilities      water bill   35.00\n",
            "5           5  2024-03-12  Entertainment  concert ticket   50.00\n",
            "6           6  2024-03-15           Food       groceries   60.00\n",
            "7           7  2024-04-01       Clothing           shoes   75.00\n",
            "8           8  2024-04-10         Health    doctor visit   80.00\n",
            "9           9  2024-04-15      Transport            taxi   20.00\n"
          ]
        }
      ]
    },
    {
      "cell_type": "code",
      "source": [
        "#deleting\n",
        "import pandas as pd  # Make sure pandas is imported\n",
        "\n",
        "def load_expenses_from_csv(filename='expenses.csv'):\n",
        "    \"\"\"Reads expenses from a CSV file and returns a Pandas DataFrame.\"\"\"\n",
        "    try:\n",
        "        df = pd.read_csv(filename)\n",
        "        print(f\"Expenses loaded from '{filename}' successfully.\")\n",
        "        return df\n",
        "    except FileNotFoundError:\n",
        "        print(f\"Error: File '{filename}' not found.\")\n",
        "        return pd.DataFrame()\n",
        "\n",
        "def delete_expense():\n",
        "    expense_id = int(input(\"Enter the expense ID to delete: \"))\n",
        "    df = load_expenses_from_csv()  # Call the existing load_expenses_from_csv function\n",
        "    if df.empty or expense_id not in df.index:\n",
        "        print(\"Expense ID not found.\")\n",
        "        return\n",
        "\n",
        "    df = df.drop(expense_id)\n",
        "    df.to_csv(\"new_expenses.csv\", index=False)\n",
        "    print(\"Expense deleted successfully!\")\n",
        "delete_expense()"
      ],
      "metadata": {
        "id": "cyvX3CENXxn0",
        "outputId": "7a7f2ebe-2b6b-4f41-e485-b3cae380551b",
        "colab": {
          "base_uri": "https://localhost:8080/"
        }
      },
      "execution_count": null,
      "outputs": [
        {
          "output_type": "stream",
          "name": "stdout",
          "text": [
            "Enter the expense ID to delete: 2\n",
            "Expenses loaded from 'expenses.csv' successfully.\n",
            "Expense deleted successfully!\n"
          ]
        }
      ]
    },
    {
      "cell_type": "code",
      "source": [
        "# Calculate total, highest, lowest, and average expenses\n",
        "import pandas as pd\n",
        "\n",
        "def calculate_statistics(df):\n",
        "    \"\"\"Calculates and prints statistical measures of expenses.\"\"\"\n",
        "    total_expenses = df['amount'].sum()\n",
        "    highest_expense = df['amount'].max()\n",
        "    lowest_expense = df['amount'].min()\n",
        "    average_expense = df['amount'].mean()\n",
        "    print(\"\\n--- Expense Statistics ---\")\n",
        "    print(f\"Total Expenses: {total_expenses:.2f}\")\n",
        "    print(f\"Highest Expense: {highest_expense:.2f}\")\n",
        "    print(f\"Lowest Expense: {lowest_expense:.2f}\")\n",
        "    print(f\"Average Expense: {average_expense:.2f}\")\n",
        "calculate_statistics(df)"
      ],
      "metadata": {
        "colab": {
          "base_uri": "https://localhost:8080/"
        },
        "id": "iMch3cSr56Hl",
        "outputId": "571aa21f-4d38-449b-8dd1-6c374d8664a8"
      },
      "execution_count": null,
      "outputs": [
        {
          "output_type": "stream",
          "name": "stdout",
          "text": [
            "\n",
            "--- Expense Statistics ---\n",
            "Total Expenses: 200.25\n",
            "Highest Expense: 120.00\n",
            "Lowest Expense: 2.50\n",
            "Average Expense: 40.05\n"
          ]
        }
      ]
    },
    {
      "cell_type": "code",
      "source": [
        "import pandas as pd\n",
        "\n",
        "def identify_spending_trends(df):\n",
        "    \"\"\"Identifies and prints spending trends.\"\"\"\n",
        "    df['date'] = pd.to_datetime(df['date'])\n",
        "    daily_expenses = df.groupby('date')['amount'].sum()\n",
        "    highest_expense_day = daily_expenses.idxmax()\n",
        "    lowest_expense_day = daily_expenses.idxmin()\n",
        "    print(\"\\n--- Spending Trends ---\")\n",
        "    print(f\"Day with Highest Expense: {highest_expense_day.strftime('%Y-%m-%d')} ({daily_expenses.max():.2f})\")\n",
        "    print(f\"Day with Lowest Expense: {lowest_expense_day.strftime('%Y-%m-%d')} ({daily_expenses.min():.2f})\")\n",
        "identify_spending_trends(df)"
      ],
      "metadata": {
        "colab": {
          "base_uri": "https://localhost:8080/"
        },
        "id": "ESngoG2b595Q",
        "outputId": "da3afbf9-0671-444a-a21c-c08fbccda3ab"
      },
      "execution_count": null,
      "outputs": [
        {
          "output_type": "stream",
          "name": "stdout",
          "text": [
            "\n",
            "--- Spending Trends ---\n",
            "Day with Highest Expense: 2024-01-03 (120.00)\n",
            "Day with Lowest Expense: 2024-01-02 (2.50)\n"
          ]
        }
      ]
    }
  ]
}